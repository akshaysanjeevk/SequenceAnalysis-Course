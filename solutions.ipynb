{
 "cells": [
  {
   "cell_type": "markdown",
   "metadata": {},
   "source": [
    "# Assignment #1\n",
    "## Greedy Motif Search"
   ]
  },
  {
   "cell_type": "code",
   "execution_count": 1,
   "metadata": {},
   "outputs": [],
   "source": [
    "from Bio import SeqIO\n",
    "import numpy as np\n",
    "import math"
   ]
  },
  {
   "cell_type": "code",
   "execution_count": 44,
   "metadata": {},
   "outputs": [],
   "source": [
    "def totalcount(x, pseudocount):\n",
    "    x=list(x)\n",
    "    counts = np.array([\n",
    "        x.count('A'),\n",
    "        x.count('T'),\n",
    "        x.count('G'),\n",
    "        x.count('C')\n",
    "        ])\n",
    "    finalcount = (counts + pseudocount)/(len(x) + 4*pseudocount)\n",
    "    return finalcount\n",
    "\n",
    "\n",
    "def profile(DNA, k, pos, log_odd=True):\n",
    "    N = len(DNA)# or pos0\n",
    "    x = np.empty((N, k), dtype=str) #matrix with k-mers\n",
    "    W = np.empty((4, k)) #position weight matrix\n",
    "    for i in range(N):\n",
    "        x[i, :] = list(DNA[i][pos[i]:pos[i]+k])\n",
    "    for j in range(k):\n",
    "        W[:,j] = totalcount(x[:,j], pseudocount=1)\n",
    "    if log_odd==True: # log-odds matrix\n",
    "        W2 = np.log(W*4)/np.log(4)\n",
    "    else: \n",
    "        W2 = W\n",
    "    return W2\n",
    "\n",
    "def llr(profile, s):\n",
    "    ref = {\n",
    "        'A':0,\n",
    "        'T':1,\n",
    "        'G':2,\n",
    "        'C':3\n",
    "    }\n",
    "    llratio = 0\n",
    "    for i in range(len(s)):\n",
    "        llratio += profile[ref[s[i]], i]\n",
    "    return llratio\n",
    "\n",
    "def motifpos(profile, DNA):\n",
    "    N = len(DNA)\n",
    "    k = profile.shape[1]\n",
    "    pos = np.empty(N, dtype=int)\n",
    "    for i in range(N):\n",
    "        maxllr = -math.inf\n",
    "        for j in range(len(DNA[i])-k+1):\n",
    "            llrval = llr(profile, DNA[i][j:j+k])\n",
    "            if llrval > maxllr:\n",
    "                maxllr = llrval\n",
    "                pos[i] = j\n",
    "    return pos  \n",
    "\n",
    "def GreedySearch(DNA, k):\n",
    "    N = len(DNA)\n",
    "    pos = np.array([np.random.randint(0, len(DNA[i]) - k) for i in range(N)])\n",
    "    while True:\n",
    "        old_pos = pos.copy()\n",
    "        pwm = profile(DNA, k, pos)\n",
    "        pos = motifpos(pwm, DNA)\n",
    "        if np.array_equal(old_pos, pos):\n",
    "            break\n",
    "    return pos"
   ]
  },
  {
   "cell_type": "code",
   "execution_count": 76,
   "metadata": {},
   "outputs": [
    {
     "name": "stdout",
     "output_type": "stream",
     "text": [
      "20-mers for 'synth_50_strong.fa':\n",
      "ATGATACCAGGGCAAGTTAA\n",
      "GGCAACAATGGCTACGAGCG\n",
      "TAGAGCAAATCGTACGAAAT\n",
      "GTCTACATCGCGAGGGAGAT\n",
      "ATGATAAGTCTCCGGTATTG\n",
      "GTGCGTTGCCGCTTGTCTTG\n",
      "ATGATAACCTACGAATAAAG\n",
      "GATATACCTCGCAAATATAA\n",
      "TTTCACTAATCACAATTGTA\n",
      "GCGATTTATGCGGGCGAAAT\n",
      "20-mers for 'synth_50_weak.fa':\n",
      "CTCAAAATCGCTTGAAATAT\n",
      "AGATTATGCTGTCCGTCAAT\n",
      "GTGATAGTATCACCCGTCTA\n",
      "AGGCAGCACCGAGTCAGGAC\n",
      "ATAGCAAACGTCGTAAGAGT\n",
      "TTCTTAGCAAGAGATTCTGC\n",
      "TTGCCGCTCAGTTCGGATCC\n",
      "TACCTATGCGCACTATTCAT\n",
      "GGATTGACCACACCGTTCCG\n",
      "AGCCCGCGCGCGGCGCATGT\n"
     ]
    }
   ],
   "source": [
    "strong = [str(record.seq) for record in SeqIO.parse(\"synth_50_strong.fa\", \"fasta\")]\n",
    "weak = [str(record.seq) for record in SeqIO.parse(\"synth_50_weak.fa\", \"fasta\")]\n",
    "\n",
    "k=20\n",
    "strong_pos = GreedySearch(strong, k)\n",
    "weak_pos = GreedySearch(weak, k)\n",
    "    \n",
    "print(f\"{k}-mers for 'synth_50_strong.fa':\")\n",
    "for i in range(len(strong)):\n",
    "    print(strong[i][strong_pos[i]:strong_pos[i]+k])\n",
    "\n",
    "print(f\"{k}-mers for 'synth_50_weak.fa':\") \n",
    "for i in range(len(weak)):\n",
    "    print(weak[i][weak_pos[i]:weak_pos[i]+k])"
   ]
  }
 ],
 "metadata": {
  "kernelspec": {
   "display_name": "c137",
   "language": "python",
   "name": "python3"
  },
  "language_info": {
   "codemirror_mode": {
    "name": "ipython",
    "version": 3
   },
   "file_extension": ".py",
   "mimetype": "text/x-python",
   "name": "python",
   "nbconvert_exporter": "python",
   "pygments_lexer": "ipython3",
   "version": "3.12.4"
  }
 },
 "nbformat": 4,
 "nbformat_minor": 2
}
