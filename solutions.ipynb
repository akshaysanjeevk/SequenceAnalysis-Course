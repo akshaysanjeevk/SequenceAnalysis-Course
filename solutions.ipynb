{
 "cells": [
  {
   "cell_type": "markdown",
   "metadata": {},
   "source": [
    "# Assignment #1\n",
    "## Greedy Motif Search"
   ]
  },
  {
   "cell_type": "code",
   "execution_count": 1,
   "metadata": {},
   "outputs": [],
   "source": [
    "from Bio import SeqIO\n",
    "import numpy as np\n",
    "import math"
   ]
  },
  {
   "cell_type": "code",
   "execution_count": 3,
   "metadata": {},
   "outputs": [],
   "source": [
    "\n",
    "\n",
    "strong = []\n",
    "seqs=[]\n",
    "for record in SeqIO.parse(\"synth_50_strong.fa\", \"fasta\"):\n",
    "    seqs.append(str(record.seq))\n",
    "    # print(f\"ID: {record.id}\")\n",
    "    # print(f\"Description: {record.description}\")\n",
    "    # print(f\"Sequence: {record.seq}\")\n",
    "    # print(\"-\" * 40)"
   ]
  },
  {
   "cell_type": "code",
   "execution_count": 36,
   "metadata": {},
   "outputs": [],
   "source": [
    "def totalcount(x, pseudocount):\n",
    "    alpha = ['A', 'T', 'G', 'C']\n",
    "    counts = np.array([np.sum(x==nt) for nt in alpha])\n",
    "    finalcount = (counts + pseudocount)/(len(x) + 4*pseudocount)\n",
    "    return finalcount\n",
    "\n",
    "def profile(DNA, k, pos, log_odd=True):\n",
    "    N = len(DNA)# or pos0\n",
    "    x = np.empty((N, k), dtype=str) #matrix with k-mers\n",
    "    W = np.empty((4, k)) #position weight matrix\n",
    "    for i in range(N):\n",
    "        x[i, :] = list(DNA[i][pos[i]:pos[i]+k])\n",
    "    for j in range(k):\n",
    "        W[:,j] = totalcount(x[:,j], pseudocount=1)\n",
    "    if log_odd==True: # log-odds matrix\n",
    "        W2 = np.log(W*4)/np.log(4)\n",
    "    else: \n",
    "        W2 = W\n",
    "    return W2\n",
    "\n",
    "def llr(profile, s):\n",
    "    ref = {\n",
    "        'A':0,\n",
    "        'T':1,\n",
    "        'G':2,\n",
    "        'C':3\n",
    "    }\n",
    "    llratio = 0\n",
    "    for i in range(len(s)):\n",
    "        llratio += profile[ref[s[i]], i]\n",
    "    return llratio\n",
    "\n",
    "    \n"
   ]
  },
  {
   "cell_type": "code",
   "execution_count": null,
   "metadata": {},
   "outputs": [],
   "source": [
    "w = profile(seqs, 6, np.ones(10, dtype=int))\n",
    "x = llr(w, seqs[0][:6])"
   ]
  },
  {
   "cell_type": "code",
   "execution_count": 38,
   "metadata": {},
   "outputs": [
    {
     "data": {
      "text/plain": [
       "np.float64(-0.8836569676473972)"
      ]
     },
     "execution_count": 38,
     "metadata": {},
     "output_type": "execute_result"
    }
   ],
   "source": [
    "x"
   ]
  }
 ],
 "metadata": {
  "kernelspec": {
   "display_name": "c137",
   "language": "python",
   "name": "python3"
  },
  "language_info": {
   "codemirror_mode": {
    "name": "ipython",
    "version": 3
   },
   "file_extension": ".py",
   "mimetype": "text/x-python",
   "name": "python",
   "nbconvert_exporter": "python",
   "pygments_lexer": "ipython3",
   "version": "3.12.4"
  }
 },
 "nbformat": 4,
 "nbformat_minor": 2
}
