{
 "cells": [
  {
   "cell_type": "markdown",
   "metadata": {},
   "source": [
    "# Assignment #1"
   ]
  },
  {
   "cell_type": "markdown",
   "metadata": {},
   "source": [
    "\n",
    "## Greedy Motif Search"
   ]
  },
  {
   "cell_type": "code",
   "execution_count": 1,
   "metadata": {},
   "outputs": [],
   "source": [
    "from Bio import SeqIO\n",
    "import numpy as np\n",
    "import math"
   ]
  },
  {
   "cell_type": "code",
   "execution_count": 65,
   "metadata": {},
   "outputs": [],
   "source": [
    "def totalcount(x, pseudocount):\n",
    "    x=list(x)\n",
    "    counts = np.array([\n",
    "        x.count('A'),\n",
    "        x.count('T'),\n",
    "        x.count('G'),\n",
    "        x.count('C')\n",
    "        ])\n",
    "    finalcount = (counts + pseudocount)/(len(x) + 4*pseudocount)\n",
    "    return finalcount\n",
    "\n",
    "\n",
    "def profile(DNA, k, pos, log_odd=True):\n",
    "    N = len(DNA)# or pos0\n",
    "    x = np.empty((N, k), dtype=str) #matrix with k-mers\n",
    "    W = np.empty((4, k)) #position weight matrix\n",
    "    for i in range(N):\n",
    "        x[i, :] = list(DNA[i][pos[i]:pos[i]+k])\n",
    "    for j in range(k):\n",
    "        W[:,j] = totalcount(x[:,j], pseudocount=1)\n",
    "    if log_odd==True: # log-odds matrix\n",
    "        W2 = np.log(W*4)/np.log(4)\n",
    "    else: \n",
    "        W2 = W\n",
    "    return W2\n",
    "\n",
    "def llr(profile, s):\n",
    "    ref = {\n",
    "        'A':0,\n",
    "        'T':1,\n",
    "        'G':2,\n",
    "        'C':3\n",
    "    }\n",
    "    llratio = 0\n",
    "    for i in range(len(s)):\n",
    "        llratio += profile[ref[s[i]], i]\n",
    "    return llratio\n",
    "\n",
    "def motifpos(profile, DNA): #Finds the motif with highest llr for a given profile(pwm)\n",
    "    N = len(DNA)\n",
    "    k = profile.shape[1]\n",
    "    pos = np.empty(N, dtype=int)\n",
    "    for i in range(N):\n",
    "        maxllr = -math.inf\n",
    "        for j in range(len(DNA[i])-k+1):\n",
    "            llrval = llr(profile, DNA[i][j:j+k])\n",
    "            if llrval > maxllr:\n",
    "                maxllr = llrval\n",
    "                pos[i] = j\n",
    "    return pos  \n",
    "\n",
    "def GreedySearch(DNA, k):\n",
    "    N = len(DNA)\n",
    "    pos = np.array([np.random.randint(0, len(DNA[i]) - k) for i in range(N)])\n",
    "    ind=0\n",
    "    while True:\n",
    "        ind = ind +1\n",
    "        old_pos = pos.copy()\n",
    "        pwm = profile(DNA, k, pos)\n",
    "        pos = motifpos(pwm, DNA)\n",
    "        print(pos)\n",
    "        if np.array_equal(old_pos, pos):\n",
    "            print(f'#iterations:{ind}')\n",
    "            break\n",
    "    return pos"
   ]
  },
  {
   "cell_type": "code",
   "execution_count": 76,
   "metadata": {},
   "outputs": [
    {
     "name": "stdout",
     "output_type": "stream",
     "text": [
      "[16 33 17 14  7 38 11  6 24 17]\n",
      "[16 33 17 14  7 33 11  6 24 17]\n",
      "[16 33 17 14  7 33 11  6 24 17]\n",
      "#iterations:3\n",
      "10-mers for 'synth_50_strong.fa':\n",
      "POS = [16 33 17 14  7 33 11  6 24 17]\n",
      "GTCGAAATGA\n",
      "AGCGAAATGA\n",
      "TACGAAATGA\n",
      "TACGAAATGA\n",
      "TTCGAAATGA\n",
      "GTCGAAATGA\n",
      "ACCGAAATGA\n",
      "AGCGAAATGA\n",
      "AGCGAAATGA\n",
      "GGCGAAATGA\n"
     ]
    }
   ],
   "source": [
    "strong = [str(record.seq) for record in SeqIO.parse(\"synth_50_strong.fa\", \"fasta\")]\n",
    "weak = [str(record.seq) for record in SeqIO.parse(\"synth_50_weak.fa\", \"fasta\")]\n",
    "\n",
    "k=10\n",
    "strong_pos = GreedySearch(strong, k)\n",
    "print(f\"{k}-mers for 'synth_50_strong.fa':\")\n",
    "print(f'POS = {strong_pos}')\n",
    "for i in range(len(strong)):\n",
    "    print(strong[i][strong_pos[i]:strong_pos[i]+k])\n"
   ]
  },
  {
   "cell_type": "code",
   "execution_count": 72,
   "metadata": {},
   "outputs": [
    {
     "name": "stdout",
     "output_type": "stream",
     "text": [
      "[37  7 24 24 32 25 32 21  1  6]\n",
      "[ 3  7 24 24 32 25 32  4  1  6]\n",
      "[ 3  7 24 24 32 25 32  4  1  6]\n",
      "#iterations:3\n",
      "10-mers for 'synth_50_weak.fa':\n",
      "POS = [ 3  7 24 24 32 25 32  4  1  6]\n",
      "AAAATCGCTT\n",
      "AGATTATGCT\n",
      "AGTATCACCC\n",
      "AGGACTTCCA\n",
      "CAAACGTCGT\n",
      "AGATTCTGCC\n",
      "CGGATCCCAC\n",
      "AGTATTGCCT\n",
      "AGGATTGACC\n",
      "AGGTCCTCCA\n"
     ]
    }
   ],
   "source": [
    "\n",
    "weak_pos = GreedySearch(weak, k)\n",
    "print(f\"{k}-mers for 'synth_50_weak.fa':\")\n",
    "print(f'POS = {weak_pos}') \n",
    "for i in range(len(weak)):\n",
    "    print(weak[i][weak_pos[i]:weak_pos[i]+k])"
   ]
  },
  {
   "cell_type": "markdown",
   "metadata": {},
   "source": [
    "## Gibbs Sampler"
   ]
  },
  {
   "cell_type": "code",
   "execution_count": null,
   "metadata": {},
   "outputs": [],
   "source": [
    "#functions\n",
    "\n",
    "def RandomPOS(DNA):\n",
    "    N = len(DNA); l = len(DNA[0]) #number of seqs, length of each seq\n",
    "    randpos = np.random.uniform(0, l-1, N)\n",
    "    return randpos\n",
    "\n",
    "def totalcount(x, pseudocount):\n",
    "    x=list(x)\n",
    "    counts = np.array([\n",
    "        x.count('A'),\n",
    "        x.count('T'),\n",
    "        x.count('G'),\n",
    "        x.count('C')\n",
    "        ])\n",
    "    finalcount = (counts + pseudocount)/(len(x) + 4*pseudocount)\n",
    "    return finalcount\n",
    "\n",
    "\n",
    "def Profile(DNA, k, pos, log_odd=True):\n",
    "    N = len(DNA)# or pos0\n",
    "    x = np.empty((N, k), dtype=str) #matrix with k-mers\n",
    "    W = np.empty((4, k)) #position weight matrix\n",
    "    for i in range(N):\n",
    "        x[i, :] = list(DNA[i][pos[i]:pos[i]+k])\n",
    "    for j in range(k):\n",
    "        W[:,j] = totalcount(x[:,j], pseudocount=1)\n",
    "    if log_odd==True: # log-odds matrix\n",
    "        W2 = np.log(W*4)/np.log(4)\n",
    "    else: \n",
    "        W2 = W\n",
    "    return W2\n",
    "\n",
    "def Gibbs(DNA, k):\n",
    "    randpos = RandomPOS(DNA)\n",
    "    pwm = Profile(DNA, k, randpos)"
   ]
  },
  {
   "cell_type": "code",
   "execution_count": null,
   "metadata": {},
   "outputs": [],
   "source": [
    "\n"
   ]
  }
 ],
 "metadata": {
  "kernelspec": {
   "display_name": "c137",
   "language": "python",
   "name": "python3"
  },
  "language_info": {
   "codemirror_mode": {
    "name": "ipython",
    "version": 3
   },
   "file_extension": ".py",
   "mimetype": "text/x-python",
   "name": "python",
   "nbconvert_exporter": "python",
   "pygments_lexer": "ipython3",
   "version": "3.12.4"
  }
 },
 "nbformat": 4,
 "nbformat_minor": 2
}
