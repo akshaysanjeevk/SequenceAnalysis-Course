{
 "cells": [
  {
   "cell_type": "markdown",
   "metadata": {},
   "source": [
    "# Assignment #1\n",
    "## Greedy Motif Search"
   ]
  },
  {
   "cell_type": "code",
   "execution_count": 2,
   "metadata": {},
   "outputs": [],
   "source": [
    "from Bio import SeqIO\n",
    "import numpy as np\n",
    "import math"
   ]
  },
  {
   "cell_type": "code",
   "execution_count": null,
   "metadata": {},
   "outputs": [],
   "source": [
    "def totalcount(x, pseudocount):\n",
    "    alpha = ['A', 'T', 'G', 'C']\n",
    "    counts = np.array([np.sum(x==nt) for nt in alpha])\n",
    "    finalcount = (counts + pseudocount)/(len(x) + 4*pseudocount)\n",
    "    return finalcount\n",
    "\n",
    "def profile(DNA, k, pos, log_odd=True):\n",
    "    N = len(DNA)# or pos0\n",
    "    x = np.empty((N, k), dtype=str) #matrix with k-mers\n",
    "    W = np.empty((4, k)) #position weight matrix\n",
    "    for i in range(N):\n",
    "        x[i, :] = list(DNA[i][pos[i]:pos[i]+k])\n",
    "    for j in range(k):\n",
    "        W[:,j] = totalcount(x[:,j], pseudocount=1)\n",
    "    if log_odd==True: # log-odds matrix\n",
    "        W2 = np.log(W*4)/np.log(4)\n",
    "    else: \n",
    "        W2 = W\n",
    "    return W2\n",
    "\n",
    "def llr(profile, s):\n",
    "    ref = {\n",
    "        'A':0,\n",
    "        'T':1,\n",
    "        'G':2,\n",
    "        'C':3\n",
    "    }\n",
    "    llratio = 0\n",
    "    for i in range(len(s)):\n",
    "        llratio += profile[ref[s[i]], i]\n",
    "    return llratio\n",
    "\n",
    "def motifpos(profile, DNA):\n",
    "    N = len(DNA)\n",
    "    k = profile.shape[1]\n",
    "    pos = np.empty(N, dtype=int)\n",
    "    for i in range(N):\n",
    "        maxllr = -math.inf\n",
    "        for j in range(len(DNA[i])-k+1):\n",
    "            llrval = llr(profile, DNA[i][j:j+k])\n",
    "            if llrval > maxllr:\n",
    "                maxllr = llrval\n",
    "                pos[i] = j\n",
    "    return pos   "
   ]
  },
  {
   "cell_type": "code",
   "execution_count": null,
   "metadata": {},
   "outputs": [],
   "source": [
    "strong = [str(record.seq) for record in SeqIO.parse(\"synth_50_strong.fa\", \"fasta\")]\n",
    "weak = [str(record.seq) for record in SeqIO.parse(\"synth_50_weak.fa\", \"fasta\")]\n",
    "\n",
    "\n",
    "GreedyMotifSearch(weak, 6, 1000):\n",
    "    best_score = -math.inf\n",
    "    for i in range(len(weak[0]) - k + 1):\n",
    "        pos = np.array([i])\n",
    "        pwm = profile(weak, k, pos)\n",
    "        score = sum([llr(pwm, weak[i][pos[i]:pos[i]+k]) for i in range(len(weak))])\n",
    "        if score > best_score:\n",
    "            best_score = score\n",
    "            best_pos = pos\n",
    "    return best_pos\n",
    "\n",
    "k = 6 #Motif length\n",
    "N = len(weak)\n",
    "pos = np.array([np.random.randint(0, len(weak[i]) - k) for i in range(N)])\n",
    "\n",
    "while True:\n",
    "    old_pos = pos.copy()\n",
    "    pwm = profile(weak, k, pos)\n",
    "    pos = motifpos(pwm, weak)\n",
    "    if np.array_equal(pos, old_pos):\n",
    "        break\n",
    "\n",
    "print(\"Final motif positions:\", pos)\n"
   ]
  }
 ],
 "metadata": {
  "kernelspec": {
   "display_name": "Python 3",
   "language": "python",
   "name": "python3"
  },
  "language_info": {
   "codemirror_mode": {
    "name": "ipython",
    "version": 3
   },
   "file_extension": ".py",
   "mimetype": "text/x-python",
   "name": "python",
   "nbconvert_exporter": "python",
   "pygments_lexer": "ipython3",
   "version": "3.9.18"
  }
 },
 "nbformat": 4,
 "nbformat_minor": 2
}
