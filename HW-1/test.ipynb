{
 "cells": [
  {
   "cell_type": "markdown",
   "metadata": {},
   "source": [
    "# Roughwork"
   ]
  },
  {
   "cell_type": "code",
   "execution_count": 9,
   "metadata": {},
   "outputs": [],
   "source": [
    "from Bio import SeqIO\n",
    "import numpy as np\n",
    "import math\n",
    "\n",
    "strong = [str(record.seq) for record in SeqIO.parse(\"synth_50_strong.fa\", \"fasta\")]\n",
    "weak = [str(record.seq) for record in SeqIO.parse(\"synth_50_weak.fa\", \"fasta\")]\n"
   ]
  },
  {
   "cell_type": "code",
   "execution_count": 20,
   "metadata": {},
   "outputs": [],
   "source": [
    "\n",
    "def profile(DNA, k, pos, log_odd=True):\n",
    "    N = len(DNA)# or pos0\n",
    "    x = np.zeros((N, k), dtype=str) #matrix with k-mers\n",
    "    W = np.zeros((4, k), dtype=float) #position weight matrix\n",
    "    for i in range(N):\n",
    "        x[i, :] = list(DNA[i][pos[i]:pos[i]+k])\n",
    "    for j in range(k):\n",
    "        dummy, W[:,j] = totalcount(x[:,j], pseudocount=1)\n",
    "    if log_odd==True: # log-odds matrix\n",
    "        W2 = np.log(W*4)/np.log(4)\n",
    "    else: \n",
    "        W2 = W\n",
    "    return x, W\n",
    "def totalcount(x, pseudocount=1):\n",
    "    x=list(x)\n",
    "    counts = np.array([\n",
    "        x.count('A'),\n",
    "        x.count('T'),\n",
    "        x.count('G'),\n",
    "        x.count('C')\n",
    "        ])\n",
    "    finalcount = (counts + pseudocount)/(len(x) + 4*pseudocount)\n",
    "    return counts,finalcount\n",
    "\n",
    "\n",
    "def totalcount2(column, pseudocount=1):\n",
    "    \"\"\"\n",
    "    Computes the position weight values for nucleotides (A, C, G, T) at a given position.\n",
    "\n",
    "    Parameters:\n",
    "    column : np.ndarray\n",
    "        A 1D numpy array containing nucleotides ('A', 'C', 'G', 'T') for a specific column in k-mers.\n",
    "    pseudocount : int, optional\n",
    "        A small pseudocount added to avoid zero counts (default: 1).\n",
    "\n",
    "    Returns:\n",
    "    np.ndarray\n",
    "        A 1D numpy array with frequencies of ('A', 'C', 'G', 'T') at the given position.\n",
    "    \"\"\"\n",
    "    nucleotides = \"ATGC\"\n",
    "    count = np.array([np.sum(column == nuc) for nuc in nucleotides])  # Count occurrences\n",
    "    count = count + pseudocount  # Apply pseudocount\n",
    "    return count / np.sum(count)  # Normalize to get probabilities\n",
    "\n",
    "\n",
    "a,b = profile(strong,10, [18, 35, 19, 16,  9, 35 ,13, 8, 26, 19])"
   ]
  },
  {
   "cell_type": "code",
   "execution_count": 16,
   "metadata": {},
   "outputs": [
    {
     "data": {
      "text/plain": [
       "array([['C', 'G', 'A', 'A', 'A', 'T', 'G', 'A', 'T', 'A'],\n",
       "       ['C', 'G', 'A', 'A', 'A', 'T', 'G', 'A', 'T', 'A'],\n",
       "       ['C', 'G', 'A', 'A', 'A', 'T', 'G', 'A', 'T', 'A'],\n",
       "       ['C', 'G', 'A', 'A', 'A', 'T', 'G', 'A', 'T', 'A'],\n",
       "       ['C', 'G', 'A', 'A', 'A', 'T', 'G', 'A', 'T', 'A'],\n",
       "       ['C', 'G', 'A', 'A', 'A', 'T', 'G', 'A', 'T', 'A'],\n",
       "       ['C', 'G', 'A', 'A', 'A', 'T', 'G', 'A', 'T', 'A'],\n",
       "       ['C', 'G', 'A', 'A', 'A', 'T', 'G', 'A', 'T', 'A'],\n",
       "       ['C', 'G', 'A', 'A', 'A', 'T', 'G', 'A', 'T', 'A'],\n",
       "       ['C', 'G', 'A', 'A', 'A', 'T', 'G', 'A', 'T', 'A']], dtype='<U1')"
      ]
     },
     "execution_count": 16,
     "metadata": {},
     "output_type": "execute_result"
    }
   ],
   "source": [
    "a"
   ]
  },
  {
   "cell_type": "code",
   "execution_count": 17,
   "metadata": {},
   "outputs": [
    {
     "name": "stdout",
     "output_type": "stream",
     "text": [
      "[ 0  0 10  0]\n"
     ]
    },
    {
     "data": {
      "text/plain": [
       "array([0.07142857, 0.07142857, 0.78571429, 0.07142857])"
      ]
     },
     "execution_count": 17,
     "metadata": {},
     "output_type": "execute_result"
    }
   ],
   "source": [
    "counts, d = totalcount(a[:, 1],1)\n",
    "print(counts)\n",
    "d"
   ]
  },
  {
   "cell_type": "code",
   "execution_count": 18,
   "metadata": {},
   "outputs": [
    {
     "name": "stdout",
     "output_type": "stream",
     "text": [
      "(array([3, 1, 2, 2]), array([0.33333333, 0.16666667, 0.25      , 0.25      ]))\n"
     ]
    }
   ],
   "source": [
    "# Example usage:\n",
    "column = np.array(['A', 'C', 'G', 'A', 'T', 'G', 'C', 'A'])  # Example nucleotide column\n",
    "weights = totalcount(column)\n",
    "print(weights)  # Normalized probabilities of A, C, G, T at this position\n"
   ]
  },
  {
   "cell_type": "code",
   "execution_count": 19,
   "metadata": {},
   "outputs": [
    {
     "data": {
      "text/plain": [
       "array([0.33333333, 0.25      , 0.25      , 0.16666667])"
      ]
     },
     "execution_count": 19,
     "metadata": {},
     "output_type": "execute_result"
    }
   ],
   "source": [
    "totalcount2(column)"
   ]
  }
 ],
 "metadata": {
  "kernelspec": {
   "display_name": "c137",
   "language": "python",
   "name": "python3"
  },
  "language_info": {
   "codemirror_mode": {
    "name": "ipython",
    "version": 3
   },
   "file_extension": ".py",
   "mimetype": "text/x-python",
   "name": "python",
   "nbconvert_exporter": "python",
   "pygments_lexer": "ipython3",
   "version": "3.12.4"
  }
 },
 "nbformat": 4,
 "nbformat_minor": 2
}
