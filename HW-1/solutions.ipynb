{
 "cells": [
  {
   "cell_type": "markdown",
   "metadata": {},
   "source": [
    "# Assignment #1"
   ]
  },
  {
   "cell_type": "code",
   "execution_count": null,
   "metadata": {},
   "outputs": [],
   "source": [
    "from Bio import SeqIO\n",
    "import numpy as np\n",
    "import math\n",
    "\n",
    "strong = [str(record.seq) for record in SeqIO.parse(\"synth_50_strong.fa\", \"fasta\")]\n",
    "weak = [str(record.seq) for record in SeqIO.parse(\"synth_50_weak.fa\", \"fasta\")]\n"
   ]
  },
  {
   "cell_type": "markdown",
   "metadata": {},
   "source": [
    "\n",
    "## Greedy Motif Search"
   ]
  },
  {
   "cell_type": "code",
   "execution_count": null,
   "metadata": {},
   "outputs": [],
   "source": [
    "%run GreedySearch.py\n",
    "k=10\n",
    "strong_pos = GreedySearch(strong, k)\n",
    "# print(f'{strong_pos}')\n",
    "print(f\"{k}-mers for 'synth_50_strong.fa':\")\n",
    "for i in range(len(strong)):\n",
    "    print(strong[i][strong_pos[i]:strong_pos[i]+k])"
   ]
  },
  {
   "cell_type": "code",
   "execution_count": null,
   "metadata": {},
   "outputs": [],
   "source": [
    "weak_pos = GreedySearch(weak, k)\n",
    "print(f\"{k}-mers for 'synth_50_weak.fa':\")\n",
    "# print(f'POS = {weak_pos}') \n",
    "for i in range(len(weak)):\n",
    "    print(weak[i][weak_pos[i]:weak_pos[i]+k])"
   ]
  },
  {
   "cell_type": "markdown",
   "metadata": {},
   "source": [
    "## Gibbs Sampler"
   ]
  },
  {
   "cell_type": "code",
   "execution_count": null,
   "metadata": {},
   "outputs": [],
   "source": [
    "%run GibbsSampler.py\n",
    "def Gibbs(DNA, k, itrs):\n",
    "    N = len(DNA)\n",
    "    pos = np.array([np.random.randint(0, len(DNA[i]) - k) for i in range(N)])\n",
    "    for i in range(itrs):\n",
    "        r = np.random.randint(0, N)\n",
    "        rmd_pos = np.delete(pos, r)\n",
    "        pwm = profile(DNA, k, rmd_pos)\n",
    "        for j in range(N-k):\n",
    "            lrvals = np.array(likelihoodr(pwm, DNA[r][j:j+k]))\n",
    "            normal_lrs = lrvals/np.sum(lrvals)\n",
    "        pick = np.random.choice(np.arange(N-k), p=normal_lrs) \n",
    "        pos = np.append(rmd_pos, pick)\n",
    "\n",
    "## look at likelihood function."
   ]
  },
  {
   "cell_type": "code",
   "execution_count": null,
   "metadata": {},
   "outputs": [],
   "source": [
    "x = Gibbs(strong, 10, 100)"
   ]
  },
  {
   "cell_type": "code",
   "execution_count": null,
   "metadata": {},
   "outputs": [],
   "source": [
    "x = np.random.randint(0,10,5)\n",
    "x1 = list(x) - x[3]\n",
    "x1"
   ]
  }
 ],
 "metadata": {
  "kernelspec": {
   "display_name": "Python 3",
   "language": "python",
   "name": "python3"
  },
  "language_info": {
   "codemirror_mode": {
    "name": "ipython",
    "version": 3
   },
   "file_extension": ".py",
   "mimetype": "text/x-python",
   "name": "python",
   "nbconvert_exporter": "python",
   "pygments_lexer": "ipython3",
   "version": "undefined.undefined.undefined"
  }
 },
 "nbformat": 4,
 "nbformat_minor": 2
}
