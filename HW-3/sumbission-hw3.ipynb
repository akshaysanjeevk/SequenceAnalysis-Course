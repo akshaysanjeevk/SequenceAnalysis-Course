{
 "cells": [
  {
   "cell_type": "code",
   "execution_count": null,
   "id": "c60343f8",
   "metadata": {},
   "outputs": [],
   "source": [
    "import numpy as np\n",
    "import os \n",
    "from itertools import combinations\n",
    "\n",
    "from scipy.cluster.hierarchy import linkage, dendrogram\n",
    "import matplotlib.pyplot as plt\n",
    "from scipy.spatial.distance import squareform"
   ]
  },
  {
   "cell_type": "code",
   "execution_count": 18,
   "id": "ca83558b",
   "metadata": {},
   "outputs": [],
   "source": [
    "def fasta_dict(infile):\n",
    "    seqs = {}\n",
    "    with open(infile, 'r') as file:\n",
    "        seq_id = None\n",
    "        seq_lines = []\n",
    "        for line in file:\n",
    "            line = line.strip()\n",
    "            if line.startswith('>'):\n",
    "                if seq_id is not None:\n",
    "                    seqs[seq_id] = ''.join(seq_lines)\n",
    "                seq_id = line[1:].split()[0] \n",
    "                seq_lines = []\n",
    "            else:\n",
    "                seq_lines.append(line)\n",
    "        if seq_id is not None:\n",
    "            seqs[seq_id] = ''.join(seq_lines)\n",
    "    return seqs\n",
    "def remove_gap_columns(sequences):\n",
    "    seq_ids = list(sequences.keys())\n",
    "    lengths = [len(sequences[seq_id]) for seq_id in seq_ids]\n",
    "    max_len = max(lengths)\n",
    "    \n",
    "    for seq_id in seq_ids:\n",
    "        seq = sequences[seq_id]\n",
    "        if len(seq) < max_len:\n",
    "            sequences[seq_id] = seq + '-' * (max_len - len(seq))\n",
    "    \n",
    "    columns_to_keep = []\n",
    "    for i in range(max_len):\n",
    "        if all(sequences[seq_id][i] != '-' for seq_id in seq_ids):\n",
    "            columns_to_keep.append(i)\n",
    "    \n",
    "    cleaned_seqs = {}\n",
    "    for seq_id in seq_ids:\n",
    "        cleaned_seq = ''.join(sequences[seq_id][i] for i in columns_to_keep)\n",
    "        cleaned_seqs[seq_id] = cleaned_seq\n",
    "    return cleaned_seqs\n",
    "\n",
    "def write_fasta(seq_dict, outfile):\n",
    "    with open(outfile, 'w') as f:\n",
    "        for sp, seq in seq_dict.items():\n",
    "            f.write(f\">{sp}\\n\")\n",
    "            for i in range(0, len(seq), 60):  # wrap lines at 60 characters\n",
    "                f.write(seq[i:i+60] + '\\n')\n",
    "\n",
    "def p_distance(seq1, seq2):\n",
    "    differences = sum(c1 != c2 for c1, c2 in zip(seq1, seq2))\n",
    "    return differences / len(seq1)"
   ]
  },
  {
   "cell_type": "markdown",
   "id": "86b85dee",
   "metadata": {},
   "source": [
    "# 3 Cleaning up the data"
   ]
  },
  {
   "cell_type": "code",
   "execution_count": 3,
   "id": "cf091b49",
   "metadata": {},
   "outputs": [],
   "source": [
    "indir = r\"D:\\IMSc coursework\\SequenceAnalysis\\SequenceAnalysis-Course\\HW-3\\yeast_orthologues_aligned\"\n",
    "allseqs = {}\n",
    "for file in os.listdir(indir):\n",
    "    geneseqs = fasta_dict(os.path.join(indir,file))\n",
    "    cleanseq = remove_gap_columns(geneseqs)\n",
    "    allseqs[file] = cleanseq\n",
    "    \n",
    "genes = list(allseqs.keys())\n",
    "species = list(allseqs['YAL008W_aligned.fasta'].keys())\n",
    "allspecies_seq = {sp: '' for sp in species}\n",
    "\n",
    "for gene in genes:\n",
    "    gene_data = allseqs[gene]\n",
    "    prefix_map = {sp[:3]: sp for sp in gene_data.keys()} \n",
    "    for sp in species:\n",
    "        prefix = sp[:3]\n",
    "        if prefix in prefix_map:\n",
    "            matched_sp = prefix_map[prefix]\n",
    "            allspecies_seq[sp] += gene_data[matched_sp]\n",
    "            \n",
    "write_fasta(allspecies_seq, 'species_aligned.fasta')\n",
    "\n"
   ]
  },
  {
   "cell_type": "markdown",
   "id": "fd6c97ec",
   "metadata": {},
   "source": [
    "# 3b. UPGMA\n"
   ]
  },
  {
   "cell_type": "code",
   "execution_count": null,
   "id": "63600f02",
   "metadata": {},
   "outputs": [
    {
     "data": {
      "image/png": "[encoded data removed]",
      "text/plain": [
       "<Figure size 800x300 with 1 Axes>"
      ]
     },
     "metadata": {},
     "output_type": "display_data"
    }
   ],
   "source": [
    "\n",
    "\n",
    "species = list(allspecies_seq.keys())\n",
    "n = len(species)\n",
    "dist_matrix = np.zeros((n, n))\n",
    "\n",
    "for i in range(n):\n",
    "    for j in range(i + 1, n):\n",
    "        dist = p_distance(allspecies_seq[species[i]], allspecies_seq[species[j]])\n",
    "        dist_matrix[i, j] = dist_matrix[j, i] = dist\n",
    "\n",
    "\n",
    "condensed_dist = squareform(dist_matrix)\n",
    "\n",
    "\n",
    "Z = linkage(condensed_dist, method='average')\n",
    "short_labels = [sp[:4] for sp in species]\n",
    "\n",
    "plt.figure(figsize=(8, 3))\n",
    "dendrogram(Z, labels=short_labels, leaf_rotation=90)\n",
    "plt.title('UPGMA clustering of species')\n",
    "plt.tight_layout()\n",
    "plt.show()\n"
   ]
  },
  {
   "cell_type": "code",
   "execution_count": null,
   "id": "e9ad956f",
   "metadata": {},
   "outputs": [],
   "source": []
  }
 ],
 "metadata": {
  "kernelspec": {
   "display_name": "Python 3",
   "language": "python",
   "name": "python3"
  },
  "language_info": {
   "codemirror_mode": {
    "name": "ipython",
    "version": 3
   },
   "file_extension": ".py",
   "mimetype": "text/x-python",
   "name": "python",
   "nbconvert_exporter": "python",
   "pygments_lexer": "ipython3",
   "version": "3.13.3"
  }
 },
 "nbformat": 4,
 "nbformat_minor": 5
}
