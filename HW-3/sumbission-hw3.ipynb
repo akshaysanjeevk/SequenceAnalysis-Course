{
 "cells": [
  {
   "cell_type": "code",
   "execution_count": 2,
   "id": "c60343f8",
   "metadata": {},
   "outputs": [],
   "source": [
    "\n",
    "import os "
   ]
  },
  {
   "cell_type": "code",
   "execution_count": null,
   "id": "ca83558b",
   "metadata": {},
   "outputs": [],
   "source": [
    "def fasta_dict(infile):\n",
    "    seqs = {}\n",
    "    with open(infile, 'r') as file:\n",
    "        seq_id = None\n",
    "        seq_lines = []\n",
    "        for line in file:\n",
    "            line = line.strip()\n",
    "            if line.startswith('>'):\n",
    "                if seq_id is not None:\n",
    "                    seqs[seq_id] = ''.join(seq_lines)\n",
    "                seq_id = line[1:].split()[0] \n",
    "                seq_lines = []\n",
    "            else:\n",
    "                seq_lines.append(line)\n",
    "        if seq_id is not None:\n",
    "            seqs[seq_id] = ''.join(seq_lines)\n",
    "    return seqs\n",
    "def remove_gap_columns(sequences):\n",
    "    seq_ids = list(sequences.keys())\n",
    "    lengths = [len(sequences[seq_id]) for seq_id in seq_ids]\n",
    "    max_len = max(lengths)\n",
    "    \n",
    "    for seq_id in seq_ids:\n",
    "        seq = sequences[seq_id]\n",
    "        if len(seq) < max_len:\n",
    "            sequences[seq_id] = seq + '-' * (max_len - len(seq))\n",
    "    \n",
    "    columns_to_keep = []\n",
    "    for i in range(max_len):\n",
    "        if all(sequences[seq_id][i] != '-' for seq_id in seq_ids):\n",
    "            columns_to_keep.append(i)\n",
    "    \n",
    "    cleaned_seqs = {}\n",
    "    for seq_id in seq_ids:\n",
    "        cleaned_seq = ''.join(sequences[seq_id][i] for i in columns_to_keep)\n",
    "        cleaned_seqs[seq_id] = cleaned_seq\n",
    "    return cleaned_seqs\n",
    "\n",
    "def write_fasta(seq_dict, outfile):\n",
    "    with open(outfile, 'w') as f:\n",
    "        for sp, seq in seq_dict.items():\n",
    "            f.write(f\">{sp}\\n\")\n",
    "            for i in range(0, len(seq), 60):  # 60 characters limit. \n",
    "                f.write(seq[i:i+60] + '\\n')\n",
    "                \n",
    "def fasta_to_phylip(fasta_file, phylip_file):\n",
    "    def read_fasta(file):\n",
    "        sequences = {}\n",
    "        with open(file, 'r') as f:\n",
    "            seq_id = None\n",
    "            seq_lines = []\n",
    "            for line in f:\n",
    "                line = line.strip()\n",
    "                if line.startswith(\">\"):\n",
    "                    if seq_id:\n",
    "                        sequences[seq_id] = ''.join(seq_lines) # check again later\n",
    "                    seq_id = line[1:].split()[0]\n",
    "                    seq_lines = []\n",
    "                else:\n",
    "                    seq_lines.append(line)\n",
    "            if seq_id:\n",
    "                sequences[seq_id] = ''.join(seq_lines)\n",
    "        return sequences\n",
    "\n",
    "    sequences = read_fasta(fasta_file)\n",
    "    ids = list(sequences.keys())\n",
    "    seqs = list(sequences.values())\n",
    "\n",
    "    with open(phylip_file, 'w') as out:\n",
    "        out.write(f\"{len(seqs)} {seq_length}\\n\")\n",
    "        for id_, seq in zip(ids, seqs):\n",
    "            name = id_[:4].ljust(10)  \n",
    "            out.write(f\"{name}{seq}\\n\")\n"
   ]
  },
  {
   "cell_type": "markdown",
   "id": "86b85dee",
   "metadata": {},
   "source": [
    "# 3 Cleaning up the data"
   ]
  },
  {
   "cell_type": "code",
   "execution_count": 5,
   "id": "cf091b49",
   "metadata": {},
   "outputs": [],
   "source": [
    "indir = r\"D:\\IMSc coursework\\SequenceAnalysis\\SequenceAnalysis-Course\\HW-3\\yeast_orthologues_aligned\"\n",
    "allseqs = {}\n",
    "for file in os.listdir(indir):\n",
    "    geneseqs = fasta_dict(os.path.join(indir,file))\n",
    "    cleanseq = remove_gap_columns(geneseqs)\n",
    "    allseqs[file] = cleanseq\n",
    "    \n",
    "genes = list(allseqs.keys())\n",
    "species = list(allseqs['YAL008W_aligned.fasta'].keys())\n",
    "allspecies_seq = {sp: '' for sp in species}\n",
    "\n",
    "for gene in genes:\n",
    "    gene_data = allseqs[gene]\n",
    "    prefix_map = {sp[:3]: sp for sp in gene_data.keys()} \n",
    "    for sp in species:\n",
    "        prefix = sp[:3]\n",
    "        if prefix in prefix_map:\n",
    "            matched_sp = prefix_map[prefix]\n",
    "            allspecies_seq[sp] += gene_data[matched_sp]\n",
    "            \n",
    "write_fasta(allspecies_seq, 'species_aligned.fasta')\n",
    "\n"
   ]
  },
  {
   "cell_type": "code",
   "execution_count": 10,
   "id": "78d0d8c4",
   "metadata": {},
   "outputs": [],
   "source": [
    "fasta_to_phylip('species_aligned.fasta', 'species_aligned.phy')"
   ]
  },
  {
   "cell_type": "markdown",
   "id": "fd6c97ec",
   "metadata": {},
   "source": [
    "# 3b. UPGMA\n"
   ]
  },
  {
   "cell_type": "code",
   "execution_count": null,
   "id": "e9ad956f",
   "metadata": {},
   "outputs": [
    {
     "name": "stdout",
     "output_type": "stream",
     "text": [
      "{'Scas': 0, 'Sjap': 1, 'Spom': 2, 'Klac': 3, 'Ctro': 4, 'Cdub': 5, 'Ncra': 6, 'Clus': 7, 'Agos': 8, 'Cpar': 9, 'Cgui': 10, 'Anid': 11, 'Dhan': 12, 'Ylip': 13, 'Cgla': 14, 'Calb': 15, 'Soct': 16, 'Scer': 17}\n"
     ]
    }
   ],
   "source": [
    "%run UPGMA_utils.py\n",
    "from Bio.Phylo.TreeConstruction import DistanceCalculator \n",
    "from Bio import AlignIO\n",
    "\n",
    "\n",
    "species_aligned = AlignIO.read(open('species_aligned.phy'), 'phylip')\n",
    "calculator = DistanceCalculator('identity')\n",
    "dm = calculator.get_distance(species_aligned)\n",
    "label_dict = {label: i for i, label in enumerate(dm.names)}\n",
    "print(label_dict)"
   ]
  },
  {
   "cell_type": "code",
   "execution_count": 8,
   "id": "e18e286b",
   "metadata": {},
   "outputs": [
    {
     "data": {
      "image/png": "[encoded data removed]",
      "text/plain": [
       "<Figure size 1000x600 with 1 Axes>"
      ]
     },
     "metadata": {},
     "output_type": "display_data"
    }
   ],
   "source": [
    "\n",
    "from Bio import Phylo\n",
    "from io import StringIO\n",
    "import matplotlib.pyplot as plt\n",
    "\n",
    "tree = upgma(dm, label_dict)\n",
    "newick_str = tree_to_newick(tree)\n",
    "handle = StringIO(newick_str)\n",
    "phylo_tree = Phylo.read(handle, \"newick\")\n",
    "newick_str = tree_to_newick(tree)\n",
    "handle = StringIO(newick_str)\n",
    "phylo_tree = Phylo.read(handle, \"newick\")\n",
    "\n",
    "\n",
    "fig = plt.figure(figsize=(10, 6))  \n",
    "ax = fig.add_subplot(1, 1, 1)\n",
    "Phylo.draw(phylo_tree, do_show=False, axes=ax)\n",
    "\n",
    "plt.savefig(\"upgma_tree.png\", dpi=300, bbox_inches=\"tight\")\n",
    "# plt.close()\n"
   ]
  }
 ],
 "metadata": {
  "kernelspec": {
   "display_name": "Python 3",
   "language": "python",
   "name": "python3"
  },
  "language_info": {
   "codemirror_mode": {
    "name": "ipython",
    "version": 3
   },
   "file_extension": ".py",
   "mimetype": "text/x-python",
   "name": "python",
   "nbconvert_exporter": "python",
   "pygments_lexer": "ipython3",
   "version": "3.13.3"
  }
 },
 "nbformat": 4,
 "nbformat_minor": 5
}
