{
 "cells": [
  {
   "cell_type": "markdown",
   "metadata": {},
   "source": [
    "# Assignment #1"
   ]
  },
  {
   "cell_type": "code",
   "execution_count": 53,
   "metadata": {},
   "outputs": [],
   "source": [
    "from Bio import SeqIO\n",
    "import numpy as np\n",
    "import math\n",
    "\n",
    "strong = [str(record.seq) for record in SeqIO.parse(\"synth_50_strong.fa\", \"fasta\")]\n",
    "weak = [str(record.seq) for record in SeqIO.parse(\"synth_50_weak.fa\", \"fasta\")]\n"
   ]
  },
  {
   "cell_type": "markdown",
   "metadata": {},
   "source": [
    "\n",
    "## Greedy Motif Search"
   ]
  },
  {
   "cell_type": "code",
   "execution_count": 3,
   "metadata": {},
   "outputs": [
    {
     "name": "stdout",
     "output_type": "stream",
     "text": [
      "POS = [19 36 20 17 10 36 14  9 27 20]\n",
      "10-mers for 'synth_50_strong.fa':\n",
      "GAAATGATAC\n",
      "GAAATGATAG\n",
      "GAAATGATAC\n",
      "GAAATGATAC\n",
      "GAAATGATAA\n",
      "GAAATGATAT\n",
      "GAAATGATAA\n",
      "GAAATGATAA\n",
      "GAAATGATAT\n",
      "GAAATGATAC\n"
     ]
    }
   ],
   "source": [
    "%run GreedySearch.py\n",
    "k=10\n",
    "strong_pos = GreedySearch(strong, k)\n",
    "\n",
    "print(f'POS = {strong_pos}')\n",
    "print(f\"{k}-mers for 'synth_50_strong.fa':\")\n",
    "for i in range(len(strong)):\n",
    "    print(strong[i][strong_pos[i]:strong_pos[i]+k])"
   ]
  },
  {
   "cell_type": "code",
   "execution_count": 25,
   "metadata": {},
   "outputs": [
    {
     "name": "stdout",
     "output_type": "stream",
     "text": [
      "10-mers for 'synth_50_weak.fa':\n",
      "POS = [11  5  3  8 16 18  5 24 25 27]\n",
      "TTGAAATATA\n",
      "CCAGATTATG\n",
      "ACGAAACATC\n",
      "TAGGCAGCAC\n",
      "GTTCACGATA\n",
      "TAGCAAGAGA\n",
      "TAGACCGATG\n",
      "CCTACCTATG\n",
      "TAGCCTTATG\n",
      "GCGGCGCATG\n"
     ]
    }
   ],
   "source": [
    "weak_pos = GreedySearch(weak, k)\n",
    "print(f\"{k}-mers for 'synth_50_weak.fa':\")\n",
    "print(f'POS = {weak_pos}') \n",
    "for i in range(len(weak)):\n",
    "    print(weak[i][weak_pos[i]:weak_pos[i]+k])"
   ]
  },
  {
   "cell_type": "markdown",
   "metadata": {},
   "source": [
    "## Gibbs Sampler"
   ]
  },
  {
   "cell_type": "code",
   "execution_count": null,
   "metadata": {},
   "outputs": [],
   "source": []
  },
  {
   "cell_type": "code",
   "execution_count": null,
   "metadata": {},
   "outputs": [],
   "source": [
    "%run GibbsSampler.py\n",
    "def Gibbs(DNA, k, itrs):\n",
    "    N = len(DNA)\n",
    "    pos = np.array([np.random.randint(0, len(DNA[i]) - k) for i in range(N)])\n",
    "    for i in range(itrs):\n",
    "        r = np.random.randint(0, N)\n",
    "        rmd_pos = np.delete(pos, r)\n",
    "        pwm = profile(DNA, k, rmd_pos)\n",
    "        for j in range(N-k):\n",
    "            lrvals = np.array(likelihoodr(pwm, DNA[r][j:j+k]))\n",
    "            normal_lrs = lrvals/np.sum(lrvals)\n",
    "        pick = np.random.choice(np.arange(N-k), p=normal_lrs) \n",
    "        pos = np.append(rmd_pos, pick)\n",
    "\n",
    "## look at likelihood function."
   ]
  },
  {
   "cell_type": "code",
   "execution_count": 75,
   "metadata": {},
   "outputs": [
    {
     "ename": "UnboundLocalError",
     "evalue": "cannot access local variable 'normal_lrs' where it is not associated with a value",
     "output_type": "error",
     "traceback": [
      "\u001b[0;31m---------------------------------------------------------------------------\u001b[0m",
      "\u001b[0;31mUnboundLocalError\u001b[0m                         Traceback (most recent call last)",
      "Cell \u001b[0;32mIn[75], line 1\u001b[0m\n\u001b[0;32m----> 1\u001b[0m x \u001b[38;5;241m=\u001b[39m \u001b[43mGibbs\u001b[49m\u001b[43m(\u001b[49m\u001b[43mstrong\u001b[49m\u001b[43m,\u001b[49m\u001b[43m \u001b[49m\u001b[38;5;241;43m10\u001b[39;49m\u001b[43m,\u001b[49m\u001b[43m \u001b[49m\u001b[38;5;241;43m100\u001b[39;49m\u001b[43m)\u001b[49m\n",
      "Cell \u001b[0;32mIn[74], line 12\u001b[0m, in \u001b[0;36mGibbs\u001b[0;34m(DNA, k, itrs)\u001b[0m\n\u001b[1;32m     10\u001b[0m     lrvals \u001b[38;5;241m=\u001b[39m np\u001b[38;5;241m.\u001b[39marray(likelihoodr(pwm, DNA[r][j:j\u001b[38;5;241m+\u001b[39mk]))\n\u001b[1;32m     11\u001b[0m     normal_lrs \u001b[38;5;241m=\u001b[39m lrvals\u001b[38;5;241m/\u001b[39mnp\u001b[38;5;241m.\u001b[39msum(lrvals)\n\u001b[0;32m---> 12\u001b[0m pick \u001b[38;5;241m=\u001b[39m np\u001b[38;5;241m.\u001b[39mrandom\u001b[38;5;241m.\u001b[39mchoice(np\u001b[38;5;241m.\u001b[39marange(N\u001b[38;5;241m-\u001b[39mk), p\u001b[38;5;241m=\u001b[39m\u001b[43mnormal_lrs\u001b[49m) \n\u001b[1;32m     13\u001b[0m pos \u001b[38;5;241m=\u001b[39m np\u001b[38;5;241m.\u001b[39mappend(rmd_pos, pick)\n",
      "\u001b[0;31mUnboundLocalError\u001b[0m: cannot access local variable 'normal_lrs' where it is not associated with a value"
     ]
    }
   ],
   "source": [
    "x = Gibbs(strong, 10, 100)"
   ]
  },
  {
   "cell_type": "code",
   "execution_count": 70,
   "metadata": {},
   "outputs": [
    {
     "data": {
      "text/plain": [
       "array([3, 3, 3, 0, 6])"
      ]
     },
     "execution_count": 70,
     "metadata": {},
     "output_type": "execute_result"
    }
   ],
   "source": [
    "x = np.random.randint(0,10,5)\n",
    "x1 = list(x) - x[3]\n",
    "x1"
   ]
  }
 ],
 "metadata": {
  "kernelspec": {
   "display_name": "c137",
   "language": "python",
   "name": "python3"
  },
  "language_info": {
   "codemirror_mode": {
    "name": "ipython",
    "version": 3
   },
   "file_extension": ".py",
   "mimetype": "text/x-python",
   "name": "python",
   "nbconvert_exporter": "python",
   "pygments_lexer": "ipython3",
   "version": "3.12.4"
  }
 },
 "nbformat": 4,
 "nbformat_minor": 2
}
